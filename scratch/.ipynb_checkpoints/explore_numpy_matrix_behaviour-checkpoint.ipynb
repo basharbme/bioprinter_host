{
 "metadata": {
  "name": "",
  "signature": "sha256:63cb807c52af270c08efb781cf907644f8928b11217db9e514015fbeb895976d"
 },
 "nbformat": 3,
 "nbformat_minor": 0,
 "worksheets": [
  {
   "cells": [
    {
     "cell_type": "code",
     "collapsed": false,
     "input": [
      "import numpy as np"
     ],
     "language": "python",
     "metadata": {},
     "outputs": [],
     "prompt_number": 1
    },
    {
     "cell_type": "code",
     "collapsed": false,
     "input": [
      "x = np.zeros((8,8))\n",
      "z = np.array([1, 0, 1, 2, 0, 2, 0, 1])\n"
     ],
     "language": "python",
     "metadata": {},
     "outputs": [],
     "prompt_number": 3
    },
    {
     "cell_type": "code",
     "collapsed": false,
     "input": [],
     "language": "python",
     "metadata": {},
     "outputs": []
    }
   ],
   "metadata": {}
  }
 ]
}