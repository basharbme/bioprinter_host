{
 "metadata": {
  "name": "",
  "signature": "sha256:7e081e8cb810412e12e97f97647ab6e256f97187331159ce483f902fbde96965"
 },
 "nbformat": 3,
 "nbformat_minor": 0,
 "worksheets": [
  {
   "cells": [
    {
     "cell_type": "code",
     "collapsed": false,
     "input": [
      "%matplotlib inline\n",
      "\n",
      "import matplotlib.pyplot as plt\n",
      "#http://nbviewer.ipython.org/github/ipython/ipython/blob/1.x/examples/notebooks/Part%203%20-%20Plotting%20with%20Matplotlib.ipynb\n",
      "\n",
      "from IPython.display import Image, display\n"
     ],
     "language": "python",
     "metadata": {},
     "outputs": [],
     "prompt_number": 23
    },
    {
     "cell_type": "code",
     "collapsed": false,
     "input": [
      "from scipy import misc\n",
      "\n",
      "\n",
      "##### Options for importing images #####\n",
      "### 1) Pil (and Pillow): it is possible to load image and convert to numpy array\n",
      "#http://effbot.org/zone/pil-changes-116.htm\\\n",
      "### 2) from skimage import io\n",
      "#http://scipy-lectures.github.io/packages/scikit-image/\n",
      "#skimage.io.imread(fname, as_grey=False, plugin=None, flatten=None, **plugin_args)\n",
      "# img_array : ndarray\n",
      "# The different colour bands/channels are stored in the third dimension, such that a grey-image is MxN, an RGB-image MxNx3 and an RGBA-image MxNx4.\n",
      "### 3) from scipy import misc\n",
      "\n"
     ],
     "language": "python",
     "metadata": {},
     "outputs": [],
     "prompt_number": 1
    },
    {
     "cell_type": "code",
     "collapsed": false,
     "input": [
      "\n",
      "lena = misc.imread('../example_files/lena.png')\n",
      "type(lena)\n",
      "#<type 'numpy.ndarray'>\n",
      "# lena.shape, lena.dtype\n",
      "#((512, 512), dtype('uint8'))\n",
      "#dtype is uint8 for 8-bit images (0-255)"
     ],
     "language": "python",
     "metadata": {},
     "outputs": [
      {
       "metadata": {},
       "output_type": "pyout",
       "prompt_number": 3,
       "text": [
        "numpy.ndarray"
       ]
      }
     ],
     "prompt_number": 3
    },
    {
     "cell_type": "code",
     "collapsed": false,
     "input": [
      "lena"
     ],
     "language": "python",
     "metadata": {},
     "outputs": [
      {
       "metadata": {},
       "output_type": "pyout",
       "prompt_number": 4,
       "text": [
        "array([[159, 159, 159, ..., 168, 151, 119],\n",
        "       [159, 159, 159, ..., 168, 151, 119],\n",
        "       [159, 159, 159, ..., 168, 151, 119],\n",
        "       ..., \n",
        "       [ 21,  21,  29, ...,  92,  87,  85],\n",
        "       [ 22,  22,  35, ...,  92,  93,  96],\n",
        "       [ 22,  22,  35, ...,  92,  93,  96]], dtype=uint8)"
       ]
      }
     ],
     "prompt_number": 4
    },
    {
     "cell_type": "code",
     "collapsed": false,
     "input": [
      "#https://docs.scipy.org/doc/scipy-0.14.1/reference/generated/scipy.misc.imread.html\n",
      "google = misc.imread('../example_files/google_logo.png')\n",
      "google_flatten = misc.imread('../example_files/google_logo.png', flatten=True)"
     ],
     "language": "python",
     "metadata": {},
     "outputs": [],
     "prompt_number": 11
    },
    {
     "cell_type": "code",
     "collapsed": false,
     "input": [
      "print google.shape\n",
      "print google.dtype"
     ],
     "language": "python",
     "metadata": {},
     "outputs": [
      {
       "output_type": "stream",
       "stream": "stdout",
       "text": [
        "(190, 538, 4)\n",
        "uint8\n"
       ]
      }
     ],
     "prompt_number": 9
    },
    {
     "cell_type": "code",
     "collapsed": false,
     "input": [
      "#google\n",
      "# png: RGBA: alpha channel (transparancy) + RGB\n",
      "# all/most pictures are 8 or 16-bit image. That is why we get int8 or?\n"
     ],
     "language": "python",
     "metadata": {},
     "outputs": [],
     "prompt_number": 14
    },
    {
     "cell_type": "code",
     "collapsed": false,
     "input": [
      "print google_flatten.shape\n",
      "print google_flatten.dtype\n",
      "google_flatten"
     ],
     "language": "python",
     "metadata": {},
     "outputs": [
      {
       "output_type": "stream",
       "stream": "stdout",
       "text": [
        "(190, 538)\n",
        "float32\n"
       ]
      },
      {
       "metadata": {},
       "output_type": "pyout",
       "prompt_number": 20,
       "text": [
        "array([[ 255.,  255.,  255., ...,  255.,  255.,  255.],\n",
        "       [ 255.,  255.,  255., ...,  255.,  255.,  255.],\n",
        "       [ 255.,    0.,    0., ...,    0.,    0.,    0.],\n",
        "       ..., \n",
        "       [ 255.,    0.,    0., ...,    0.,    0.,    0.],\n",
        "       [ 255.,  255.,  255., ...,  255.,  255.,  255.],\n",
        "       [ 255.,  255.,  255., ...,  255.,  255.,  255.]], dtype=float32)"
       ]
      }
     ],
     "prompt_number": 20
    },
    {
     "cell_type": "code",
     "collapsed": false,
     "input": [
      "plt.imshow(google) # cannot specify interpret colormap cmap=plt.get_cmap(\"Greys\")\n",
      "plt.show()"
     ],
     "language": "python",
     "metadata": {},
     "outputs": [
      {
       "metadata": {},
       "output_type": "display_data",
       "png": "[encoded data removed]",
       "text": [
        "<matplotlib.figure.Figure at 0x1125a7b10>"
       ]
      }
     ],
     "prompt_number": 29
    },
    {
     "cell_type": "code",
     "collapsed": false,
     "input": [
      "### Show flatten image\n",
      "plt.imshow(google_flatten, cmap=plt.get_cmap(\"Greys\"))\n",
      "plt.show()\n"
     ],
     "language": "python",
     "metadata": {},
     "outputs": [
      {
       "metadata": {},
       "output_type": "display_data",
       "png": "[encoded data removed]",
       "text": [
        "<matplotlib.figure.Figure at 0x1125f7790>"
       ]
      }
     ],
     "prompt_number": 26
    },
    {
     "cell_type": "code",
     "collapsed": false,
     "input": [
      "from IPython.display import Image, display\n",
      "display(google_flatten)"
     ],
     "language": "python",
     "metadata": {},
     "outputs": [
      {
       "metadata": {},
       "output_type": "display_data",
       "text": [
        "array([[ 255.,  255.,  255., ...,  255.,  255.,  255.],\n",
        "       [ 255.,  255.,  255., ...,  255.,  255.,  255.],\n",
        "       [ 255.,    0.,    0., ...,    0.,    0.,    0.],\n",
        "       ..., \n",
        "       [ 255.,    0.,    0., ...,    0.,    0.,    0.],\n",
        "       [ 255.,  255.,  255., ...,  255.,  255.,  255.],\n",
        "       [ 255.,  255.,  255., ...,  255.,  255.,  255.]], dtype=float32)"
       ]
      }
     ],
     "prompt_number": 19
    },
    {
     "cell_type": "code",
     "collapsed": false,
     "input": [],
     "language": "python",
     "metadata": {},
     "outputs": []
    }
   ],
   "metadata": {}
  }
 ]
}